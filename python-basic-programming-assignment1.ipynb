{
 "cells": [
  {
   "cell_type": "code",
   "execution_count": 1,
   "id": "375b43a1",
   "metadata": {},
   "outputs": [
    {
     "name": "stdout",
     "output_type": "stream",
     "text": [
      "hello python\n"
     ]
    }
   ],
   "source": [
    "# solution1)\n",
    "print(\"hello python\")"
   ]
  },
  {
   "cell_type": "code",
   "execution_count": 4,
   "id": "4bfde2c0",
   "metadata": {},
   "outputs": [
    {
     "name": "stdout",
     "output_type": "stream",
     "text": [
      "select an arithmatic operator\n",
      "enter the mathemmatical operation /\n",
      "enter the first number 2\n",
      "enter the second number 2\n",
      "1.0\n"
     ]
    }
   ],
   "source": [
    "# solution2)\n",
    "\n",
    "print(\"select an arithmatic operator\")\n",
    "\n",
    "operator = input(\"enter the mathemmatical operation \")\n",
    "num1 = int(input(\"enter the first number \"))\n",
    "num2 = int(input(\"enter the second number \"))\n",
    "if operator == \"+\":\n",
    "    print(num1 + num2)\n",
    "\n",
    "elif operator == \"-\":\n",
    "    print(num1 - num2)\n",
    "\n",
    "elif operator == \"*\":\n",
    "    print(num1 * num2) \n",
    "\n",
    "elif operator == \"/\":\n",
    "    print(num1 / num2) \n",
    "else:\n",
    "    print(f\"this {(operator)} is not a valid operator, please enter the valid operator\")"
   ]
  },
  {
   "cell_type": "code",
   "execution_count": 15,
   "id": "dade6f57",
   "metadata": {},
   "outputs": [
    {
     "name": "stdout",
     "output_type": "stream",
     "text": [
      "enter the height of the triangle   5\n",
      "enter the base of the triangle   12\n",
      "the are of triangle is  30.0\n"
     ]
    }
   ],
   "source": [
    "# solution3\n",
    "\n",
    "height = int(input(\"enter the height of the triangle   \"))\n",
    "base = int(input(\"enter the base of the triangle   \"))\n",
    "\n",
    "area_of_triangle = (base * height)/2\n",
    "print(\"the are of triangle is \", area_of_triangle)"
   ]
  },
  {
   "cell_type": "code",
   "execution_count": 9,
   "id": "33e8ae48",
   "metadata": {},
   "outputs": [],
   "source": [
    "# solution4)\n",
    "def swapnumbers(a,b):\n",
    "    temp = a\n",
    "    a = b\n",
    "    b = temp\n",
    "    print(a,b)\n",
    "\n"
   ]
  },
  {
   "cell_type": "code",
   "execution_count": 10,
   "id": "74ceeaed",
   "metadata": {},
   "outputs": [
    {
     "name": "stdout",
     "output_type": "stream",
     "text": [
      "20 12\n"
     ]
    }
   ],
   "source": [
    "swapnumbers(12,20)"
   ]
  },
  {
   "cell_type": "code",
   "execution_count": 15,
   "id": "e96e18fb",
   "metadata": {},
   "outputs": [
    {
     "name": "stdout",
     "output_type": "stream",
     "text": [
      "0.03918117363298568\n",
      "885\n"
     ]
    }
   ],
   "source": [
    "#solution5)\n",
    "import random\n",
    "a = random.random()\n",
    "print(a)\n",
    "\n",
    "# if we want to print random number between some range lets say 10 to 1000 then the programme will be:-\n",
    "\n",
    "b = random.randint(10,1000)\n",
    "print(b)"
   ]
  },
  {
   "cell_type": "code",
   "execution_count": null,
   "id": "83d6a442",
   "metadata": {},
   "outputs": [],
   "source": []
  }
 ],
 "metadata": {
  "kernelspec": {
   "display_name": "Python 3 (ipykernel)",
   "language": "python",
   "name": "python3"
  },
  "language_info": {
   "codemirror_mode": {
    "name": "ipython",
    "version": 3
   },
   "file_extension": ".py",
   "mimetype": "text/x-python",
   "name": "python",
   "nbconvert_exporter": "python",
   "pygments_lexer": "ipython3",
   "version": "3.9.12"
  }
 },
 "nbformat": 4,
 "nbformat_minor": 5
}
