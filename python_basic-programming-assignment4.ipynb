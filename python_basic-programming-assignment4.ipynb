{
 "cells": [
  {
   "cell_type": "code",
   "execution_count": 1,
   "id": "8a2c887e",
   "metadata": {},
   "outputs": [
    {
     "name": "stdout",
     "output_type": "stream",
     "text": [
      "Enter a number: 5\n",
      "The Factorial of 5 is 120\n"
     ]
    }
   ],
   "source": [
    "# solution1\n",
    "def factorial(number):\n",
    "    if (number < 1):\n",
    "        return 1\n",
    "    else:\n",
    "        return number*factorial(number-1)\n",
    "number= int(input('Enter a number: '))\n",
    "value = factorial(number)\n",
    "print(f'The Factorial of {number} is {value}')"
   ]
  },
  {
   "cell_type": "code",
   "execution_count": 2,
   "id": "aa964ef8",
   "metadata": {},
   "outputs": [
    {
     "name": "stdout",
     "output_type": "stream",
     "text": [
      "enter the number: 8\n",
      "8 X 1 =  8\n",
      "8 X 2 =  16\n",
      "8 X 3 =  24\n",
      "8 X 4 =  32\n",
      "8 X 5 =  40\n",
      "8 X 6 =  48\n",
      "8 X 7 =  56\n",
      "8 X 8 =  64\n",
      "8 X 9 =  72\n",
      "8 X 10 =  80\n"
     ]
    }
   ],
   "source": [
    "# solution2\n",
    "num = int(input(\"enter the number: \"))\n",
    "for i in range(1,11):\n",
    "    print(f\"{num} X {i} = \", num*i)"
   ]
  },
  {
   "cell_type": "code",
   "execution_count": 3,
   "id": "773c08f4",
   "metadata": {},
   "outputs": [
    {
     "name": "stdout",
     "output_type": "stream",
     "text": [
      "Enter desired length: 7\n",
      "0\n",
      "1\n",
      "1\n",
      "2\n",
      "3\n",
      "5\n",
      "8\n",
      "13\n"
     ]
    }
   ],
   "source": [
    "# solution3\n",
    "# each number is the addition of previous two numbers\n",
    "no = int(input(\"Enter desired length: \"))\n",
    "a = 0\n",
    "b = 1\n",
    "c = 0\n",
    "print(a)\n",
    "print(b)\n",
    "i = 1\n",
    "\n",
    "while i < no:\n",
    "    c = a+b\n",
    "    a = b\n",
    "    b = c\n",
    "    i = i+1\n",
    "    print(c)\n",
    "    "
   ]
  },
  {
   "cell_type": "code",
   "execution_count": 1,
   "id": "02c28910",
   "metadata": {},
   "outputs": [
    {
     "name": "stdout",
     "output_type": "stream",
     "text": [
      "Enter number to check: 153\n",
      "its armstrong number\n"
     ]
    }
   ],
   "source": [
    "# solution4\n",
    "number = int(input(\"Enter number to check: \"))\n",
    "digit = 0\n",
    "s = 0\n",
    "n = number\n",
    "while n>0:\n",
    "    digit = n%10\n",
    "    s = s + digit**3\n",
    "    n = n//10\n",
    "if number==s:\n",
    "    print(\"its armstrong number\")\n",
    "else:\n",
    "    print(\"not armstrong number\")\n",
    "\n",
    "    \n"
   ]
  },
  {
   "cell_type": "code",
   "execution_count": 2,
   "id": "0aad6f62",
   "metadata": {},
   "outputs": [
    {
     "name": "stdout",
     "output_type": "stream",
     "text": [
      "Enter lower limit of interval: 10\n",
      "Enter upper limit of interval: 1000\n",
      "Armstrong numbers in given interval are:  64 125 153 216 370 371 407 729 "
     ]
    }
   ],
   "source": [
    "# solution5\n",
    "\n",
    "lower = int(input(\"Enter lower limit of interval: \"))\n",
    "upper = int(input(\"Enter upper limit of interval: \"))\n",
    "print(\"Armstrong numbers in given interval are: \", end = \" \")\n",
    "for number in range(lower,upper+1):\n",
    "    s = 0\n",
    "    temp = number\n",
    "    while temp>0:\n",
    "        x = temp%10\n",
    "        s = s + x**3\n",
    "        temp = temp//10\n",
    "        if number==s:\n",
    "            print(number, end=\" \")"
   ]
  },
  {
   "cell_type": "code",
   "execution_count": 6,
   "id": "c3524bea",
   "metadata": {},
   "outputs": [
    {
     "name": "stdout",
     "output_type": "stream",
     "text": [
      "enter the number here: 5\n",
      "the sum of natural numbers is 15\n"
     ]
    }
   ],
   "source": [
    "# solution6\n",
    "n = int(input(\"enter the number here: \"))\n",
    "i = 1\n",
    "sum = 0\n",
    "while(i<=n):\n",
    "    sum = sum+i\n",
    "    i = i+1\n",
    "print(\"the sum of natural numbers is\", sum)"
   ]
  },
  {
   "cell_type": "code",
   "execution_count": null,
   "id": "892e560a",
   "metadata": {},
   "outputs": [],
   "source": []
  }
 ],
 "metadata": {
  "kernelspec": {
   "display_name": "Python 3 (ipykernel)",
   "language": "python",
   "name": "python3"
  },
  "language_info": {
   "codemirror_mode": {
    "name": "ipython",
    "version": 3
   },
   "file_extension": ".py",
   "mimetype": "text/x-python",
   "name": "python",
   "nbconvert_exporter": "python",
   "pygments_lexer": "ipython3",
   "version": "3.9.12"
  }
 },
 "nbformat": 4,
 "nbformat_minor": 5
}
